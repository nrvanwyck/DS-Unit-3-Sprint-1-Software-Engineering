{
 "cells": [
  {
   "cell_type": "markdown",
   "metadata": {},
   "source": [
    "### Follow Along\n",
    "\n",
    "Consider the following class as a way to represent complex numbers."
   ]
  },
  {
   "cell_type": "code",
   "execution_count": 3,
   "metadata": {},
   "outputs": [
    {
     "data": {
      "text/plain": [
       "(3.0, -4.5)"
      ]
     },
     "execution_count": 3,
     "metadata": {},
     "output_type": "execute_result"
    }
   ],
   "source": [
    "class Complex:\n",
    "    def __init__(self, realpart, imagpart):\n",
    "        self.r = realpart\n",
    "        self.i = imagpart\n",
    "\n",
    "x = Complex(3.0, -4.5)\n",
    "x.r, x.i"
   ]
  },
  {
   "cell_type": "markdown",
   "metadata": {},
   "source": [
    "Execute the above code in a Python repl/environment of your choice (a notebook can work too). Make multiple instances of the class, inspect them, and try to use them interactively to perform basic mathematics (arithmetic).\n",
    "\n",
    "## Challenge\n",
    "Rewrite the Complex class with a method add that takes a complex number as an argument and returns the sum of it with the complex number it is being called from (self).\n",
    "\n",
    "## Stretch goal\n",
    "Implement all basic arithmetic operations (subtract, multiply, divide)."
   ]
  },
  {
   "cell_type": "code",
   "execution_count": 2,
   "metadata": {},
   "outputs": [
    {
     "name": "stdout",
     "output_type": "stream",
     "text": [
      "sum: 7.0 + -13.5i \n",
      "difference: -1.0 + 4.5i \n",
      "product: -28.5 + -45.0i \n",
      "quotient: 0.5412371134020618 + 0.09278350515463918i\n"
     ]
    }
   ],
   "source": [
    "class Complex:\n",
    "    def __init__(self, realpart, imagpart):\n",
    "        self.r = realpart\n",
    "        self.i = imagpart\n",
    "    \n",
    "    def add(self, addend):\n",
    "        return Complex(self.r + addend.r,\n",
    "                       self.i + addend.i)\n",
    "\n",
    "    def subtract(self, subtrahend):\n",
    "        return Complex(self.r - subtrahend.r,\n",
    "                       self.i - subtrahend.i)\n",
    "\n",
    "    def multiply(self, multiplicand):\n",
    "        return Complex((self.r * multiplicand.r) - (self.i * multiplicand.i),\n",
    "                       (self.r * multiplicand.i) + (self.i * multiplicand.r))\n",
    "\n",
    "    def divide(self, divisor):\n",
    "        return Complex(((self.r * divisor.r) + (self.i * divisor.i)) /\n",
    "                       ((divisor.r)**2 + (divisor.i)**2),\n",
    "                       ((self.i * divisor.r) - (self.r * divisor.i)) /\n",
    "                       ((divisor.r)**2 + (divisor.i)**2))\n",
    "\n",
    "\n",
    "a = Complex(3.0, -4.5)\n",
    "b = Complex(4.0, -9)\n",
    "     \n",
    "x = a.add(b)\n",
    "y = a.subtract(b)\n",
    "z = a.multiply(b)\n",
    "w = a.divide(b)\n",
    "\n",
    "print('sum:', x.r, '+', str(x.i) + 'i',\n",
    "      '\\ndifference:', y.r, '+', str(y.i) + 'i',\n",
    "      '\\nproduct:', z.r, '+', str(z.i) + 'i',\n",
    "      '\\nquotient:', w.r, '+', str(w.i) + 'i')"
   ]
  },
  {
   "cell_type": "code",
   "execution_count": 36,
   "metadata": {},
   "outputs": [
    {
     "name": "stdout",
     "output_type": "stream",
     "text": [
      "sum: (7-13.5j) \n",
      "difference: (-1+4.5j) \n",
      "product: (-28.5-45j) \n",
      "quotient: (0.5412371134020618+0.09278350515463916j)\n"
     ]
    }
   ],
   "source": [
    "# Checking the above with built-in python functions...\n",
    "\n",
    "a = complex(3.0, -4.5)\n",
    "b = complex(4.0, -9)\n",
    "\n",
    "print('sum:', a + b,\n",
    "      '\\ndifference:', a - b,\n",
    "      '\\nproduct:', a * b,\n",
    "      '\\nquotient:', a / b)\n",
    "\n",
    "# Looks good!"
   ]
  }
 ],
 "metadata": {
  "kernelspec": {
   "display_name": "Python 3",
   "language": "python",
   "name": "python3"
  },
  "language_info": {
   "codemirror_mode": {
    "name": "ipython",
    "version": 3
   },
   "file_extension": ".py",
   "mimetype": "text/x-python",
   "name": "python",
   "nbconvert_exporter": "python",
   "pygments_lexer": "ipython3",
   "version": "3.7.3"
  }
 },
 "nbformat": 4,
 "nbformat_minor": 2
}
